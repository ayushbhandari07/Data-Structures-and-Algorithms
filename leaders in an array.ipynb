{
 "cells": [
  {
   "cell_type": "code",
   "execution_count": 1,
   "metadata": {},
   "outputs": [],
   "source": [
    "# leaders are considered when a number is greater than all the elements on the right side of that element"
   ]
  },
  {
   "cell_type": "code",
   "execution_count": 23,
   "metadata": {},
   "outputs": [
    {
     "name": "stdout",
     "output_type": "stream",
     "text": [
      "5\n"
     ]
    }
   ],
   "source": [
    "# brute force solution\n",
    "A=[15,-1,7,2,5,4,2,3]\n",
    "count=1\n",
    "# if last element is not equal to zero then it is by default a leader so count=1\n",
    "for i in range(len(A)):\n",
    "    cnt=0\n",
    "    for j in range(i+1,len(A)):\n",
    "        length=len(A)-i-1\n",
    "        if A[i]>A[j]:\n",
    "            cnt+=1\n",
    "        \n",
    "    if cnt==length:\n",
    "        count+=1\n",
    "print(count)"
   ]
  },
  {
   "cell_type": "code",
   "execution_count": 24,
   "metadata": {},
   "outputs": [
    {
     "name": "stdout",
     "output_type": "stream",
     "text": [
      "5\n"
     ]
    }
   ],
   "source": [
    "# optimised solution\n",
    "A=[15,-1,7,2,5,4,2,3]\n",
    "cnt=0\n",
    "maxi=-99999999\n",
    "for i in range(len(A)-1,-1,-1):\n",
    "    if A[i]>maxi:\n",
    "            cnt+=1\n",
    "            maxi=A[i]\n",
    "print(cnt)"
   ]
  },
  {
   "cell_type": "code",
   "execution_count": null,
   "metadata": {},
   "outputs": [],
   "source": []
  }
 ],
 "metadata": {
  "kernelspec": {
   "display_name": "Python 3",
   "language": "python",
   "name": "python3"
  },
  "language_info": {
   "codemirror_mode": {
    "name": "ipython",
    "version": 3
   },
   "file_extension": ".py",
   "mimetype": "text/x-python",
   "name": "python",
   "nbconvert_exporter": "python",
   "pygments_lexer": "ipython3",
   "version": "3.8.5"
  }
 },
 "nbformat": 4,
 "nbformat_minor": 4
}
