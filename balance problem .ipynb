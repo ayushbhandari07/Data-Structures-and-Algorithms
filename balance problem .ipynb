{
 "cells": [
  {
   "cell_type": "code",
   "execution_count": 12,
   "metadata": {},
   "outputs": [
    {
     "name": "stdout",
     "output_type": "stream",
     "text": [
      "100\n",
      "2\n",
      "1 100\n",
      "200\n",
      "2 50\n",
      "150\n"
     ]
    }
   ],
   "source": [
    "amount=int(input())\n",
    "tc=int(input())\n",
    "for i in range(1,tc+1):\n",
    "    tpe,value=input().split(\" \")\n",
    "    if int(tpe)==1:\n",
    "        amount=amount+int(value)\n",
    "        print(amount)\n",
    "    else:\n",
    "        if amount>int(value):\n",
    "            amount=amount-int(value)\n",
    "            print(amount)\n",
    "        else:\n",
    "            print(\"Insufficient Funds\")\n",
    "    "
   ]
  },
  {
   "cell_type": "code",
   "execution_count": null,
   "metadata": {},
   "outputs": [],
   "source": []
  },
  {
   "cell_type": "code",
   "execution_count": null,
   "metadata": {},
   "outputs": [],
   "source": []
  },
  {
   "cell_type": "code",
   "execution_count": null,
   "metadata": {},
   "outputs": [],
   "source": []
  },
  {
   "cell_type": "code",
   "execution_count": null,
   "metadata": {},
   "outputs": [],
   "source": []
  }
 ],
 "metadata": {
  "kernelspec": {
   "display_name": "Python 3",
   "language": "python",
   "name": "python3"
  },
  "language_info": {
   "codemirror_mode": {
    "name": "ipython",
    "version": 3
   },
   "file_extension": ".py",
   "mimetype": "text/x-python",
   "name": "python",
   "nbconvert_exporter": "python",
   "pygments_lexer": "ipython3",
   "version": "3.8.5"
  }
 },
 "nbformat": 4,
 "nbformat_minor": 4
}
