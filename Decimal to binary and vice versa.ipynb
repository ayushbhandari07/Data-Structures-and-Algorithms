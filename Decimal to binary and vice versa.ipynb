{
 "cells": [
  {
   "cell_type": "code",
   "execution_count": 14,
   "metadata": {},
   "outputs": [
    {
     "name": "stdout",
     "output_type": "stream",
     "text": [
      "[1, 0, 1, 0, 1]\n"
     ]
    }
   ],
   "source": [
    "#convert the given decimal number to binary\n",
    "A=21\n",
    "l=[]\n",
    "while A>0:\n",
    "    rem=A%2\n",
    "    A=A//2\n",
    "    l.append(rem)\n",
    "print(l[::-1])    "
   ]
  },
  {
   "cell_type": "code",
   "execution_count": 15,
   "metadata": {},
   "outputs": [
    {
     "name": "stdout",
     "output_type": "stream",
     "text": [
      "21\n"
     ]
    }
   ],
   "source": [
    "#convert the binary number to decimal\n",
    "A=[1, 0, 1, 0, 1]\n",
    "A=A[::-1]\n",
    "n=len(A)\n",
    "number=0\n",
    "for i in range(n-1,-1,-1):\n",
    "    ans=A[i]*(2**i)\n",
    "    number+=ans\n",
    "print(number)"
   ]
  },
  {
   "cell_type": "code",
   "execution_count": null,
   "metadata": {},
   "outputs": [],
   "source": []
  }
 ],
 "metadata": {
  "kernelspec": {
   "display_name": "Python 3",
   "language": "python",
   "name": "python3"
  },
  "language_info": {
   "codemirror_mode": {
    "name": "ipython",
    "version": 3
   },
   "file_extension": ".py",
   "mimetype": "text/x-python",
   "name": "python",
   "nbconvert_exporter": "python",
   "pygments_lexer": "ipython3",
   "version": "3.8.5"
  }
 },
 "nbformat": 4,
 "nbformat_minor": 4
}
