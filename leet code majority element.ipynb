{
 "cells": [
  {
   "cell_type": "code",
   "execution_count": null,
   "metadata": {},
   "outputs": [],
   "source": [
    "# Given an array nums of size n, return the majority element.\n",
    "\n",
    "# The majority element is the element that appears more than ⌊n / 2⌋ times. \n",
    "# You may assume that the majority element always exists in the array."
   ]
  },
  {
   "cell_type": "code",
   "execution_count": 10,
   "metadata": {},
   "outputs": [
    {
     "name": "stdout",
     "output_type": "stream",
     "text": [
      "2\n"
     ]
    }
   ],
   "source": [
    "nums = [2,2,1,1,1,2,2]\n",
    "n=len(nums)\n",
    "val=n//2\n",
    "majority_element=0\n",
    "dictionary=dict()\n",
    "for i in nums:\n",
    "    if i in dictionary:\n",
    "         dictionary[i]+=1\n",
    "    else:\n",
    "        dictionary[i]=1\n",
    "for j in dictionary:\n",
    "    if dictionary[j]>val:\n",
    "        majority_element=j\n",
    "print(majority_element)\n",
    "    "
   ]
  },
  {
   "cell_type": "code",
   "execution_count": null,
   "metadata": {},
   "outputs": [],
   "source": []
  }
 ],
 "metadata": {
  "kernelspec": {
   "display_name": "Python 3",
   "language": "python",
   "name": "python3"
  },
  "language_info": {
   "codemirror_mode": {
    "name": "ipython",
    "version": 3
   },
   "file_extension": ".py",
   "mimetype": "text/x-python",
   "name": "python",
   "nbconvert_exporter": "python",
   "pygments_lexer": "ipython3",
   "version": "3.8.5"
  }
 },
 "nbformat": 4,
 "nbformat_minor": 4
}
