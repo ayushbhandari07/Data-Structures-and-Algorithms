{
 "cells": [
  {
   "cell_type": "code",
   "execution_count": 29,
   "metadata": {},
   "outputs": [
    {
     "name": "stdout",
     "output_type": "stream",
     "text": [
      "['s', 'C', 'A', 'l', 'e', 'R']\n"
     ]
    }
   ],
   "source": [
    "A=['S','c','a','L','E','r']\n",
    "for i in range(len(A)):\n",
    "    if ord(A[i])>90:\n",
    "        A[i]=chr(ord(A[i])-32)\n",
    "    else:\n",
    "        A[i]=chr(ord(A[i])+32)\n",
    "print(A)"
   ]
  },
  {
   "cell_type": "code",
   "execution_count": 32,
   "metadata": {},
   "outputs": [
    {
     "name": "stdout",
     "output_type": "stream",
     "text": [
      "['s', 'C', 'A', 'l', 'e', 'R']\n"
     ]
    }
   ],
   "source": [
    "A=['S','c','a','L','E','r']\n",
    "for i in range(len(A)):\n",
    "    A[i]=chr(ord(A[i])^32)\n",
    "print(A)"
   ]
  },
  {
   "cell_type": "code",
   "execution_count": null,
   "metadata": {},
   "outputs": [],
   "source": []
  }
 ],
 "metadata": {
  "kernelspec": {
   "display_name": "Python 3",
   "language": "python",
   "name": "python3"
  },
  "language_info": {
   "codemirror_mode": {
    "name": "ipython",
    "version": 3
   },
   "file_extension": ".py",
   "mimetype": "text/x-python",
   "name": "python",
   "nbconvert_exporter": "python",
   "pygments_lexer": "ipython3",
   "version": "3.8.5"
  }
 },
 "nbformat": 4,
 "nbformat_minor": 4
}
