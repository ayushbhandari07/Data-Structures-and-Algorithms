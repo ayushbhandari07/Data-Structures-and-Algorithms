{
 "cells": [
  {
   "cell_type": "code",
   "execution_count": 1,
   "metadata": {},
   "outputs": [],
   "source": [
    "#You have given a string A having Uppercase English letters.\n",
    "\n",
    "#You have to find how many times subsequence \"AG\" is there in the given string.\n"
   ]
  },
  {
   "cell_type": "code",
   "execution_count": 8,
   "metadata": {},
   "outputs": [
    {
     "name": "stdout",
     "output_type": "stream",
     "text": [
      "3\n"
     ]
    }
   ],
   "source": [
    "#brute force soln\n",
    "A = \"ABCGAG\"\n",
    "l=[]\n",
    "for i in A:\n",
    "    l.append(i)\n",
    "cnt=0\n",
    "for i in range(len(l)):\n",
    "    if l[i]=='A':\n",
    "        for j in range(i+1,len(l)):\n",
    "            if l[j]=='G':\n",
    "                cnt=cnt+1\n",
    "print(cnt)\n",
    "            "
   ]
  },
  {
   "cell_type": "code",
   "execution_count": 13,
   "metadata": {},
   "outputs": [
    {
     "name": "stdout",
     "output_type": "stream",
     "text": [
      "3\n"
     ]
    }
   ],
   "source": [
    "#optimized solution\n",
    "A = \"ABCGAG\"\n",
    "l=[]\n",
    "for i in A:\n",
    "    l.append(i)\n",
    "cnt=0\n",
    "pairs=0\n",
    "for j in range(len(l)):\n",
    "    if l[j]=='G':\n",
    "        cnt=cnt+1\n",
    "for k in range(len(l)):\n",
    "    if l[k]=='A':\n",
    "        pairs=pairs+cnt\n",
    "    if l[k]=='G':\n",
    "        cnt=cnt-1\n",
    "print(pairs)"
   ]
  },
  {
   "cell_type": "code",
   "execution_count": 27,
   "metadata": {},
   "outputs": [
    {
     "name": "stdout",
     "output_type": "stream",
     "text": [
      "7\n"
     ]
    }
   ],
   "source": [
    "#closest min max\n",
    "#brute force\n",
    "l=[9,2,7,3,7,4,5,1]\n",
    "#return the closest min max means we have to return the length between the closest min and maximum element\n",
    "mn=min(l)\n",
    "mx=max(l)\n",
    "#considering min as the first occurence\n",
    "if len(l)==1:\n",
    "    print(1)\n",
    "else:\n",
    "\n",
    "\n",
    "    for i in range(len(l)):\n",
    "        if l[i]==mn:\n",
    "            for j in range(i+1,len(l)):\n",
    "                if l[j]==mx: \n",
    "                    ans=j-i\n",
    "                    break\n",
    "                \n",
    "#considering min as the first occurence              \n",
    "    for i in range(len(l)):\n",
    "        if l[i]==mx:\n",
    "            for j in range(i+1,len(l)):\n",
    "                if l[j]==mn:\n",
    "                    ans=j-i\n",
    "                    break\n",
    "print(ans)"
   ]
  },
  {
   "cell_type": "code",
   "execution_count": 33,
   "metadata": {},
   "outputs": [
    {
     "name": "stdout",
     "output_type": "stream",
     "text": [
      "-6\n"
     ]
    }
   ],
   "source": [
    "#optimised soln\n",
    "l=[1,2,3,4,5,6,7,1]\n",
    "ans=len(l)\n",
    "min_ind=999999\n",
    "mx=max(l)\n",
    "mn=min(l)\n",
    "for i in range(len(l)-1,-1,-1):\n",
    "    if l[i]==mx:\n",
    "         ans=min(ans,min_ind-i+1)\n",
    "    if l[i]==mn:\n",
    "        min_ind=i\n",
    "        \n",
    "for i in range(len(l)-1,-1,-1):\n",
    "    if l[i]==mn:\n",
    "         ans=min(ans,min_ind-i+1)\n",
    "    if l[i]==mx:\n",
    "        min_ind=i\n",
    "print(ans)"
   ]
  },
  {
   "cell_type": "code",
   "execution_count": null,
   "metadata": {},
   "outputs": [],
   "source": []
  }
 ],
 "metadata": {
  "kernelspec": {
   "display_name": "Python 3",
   "language": "python",
   "name": "python3"
  },
  "language_info": {
   "codemirror_mode": {
    "name": "ipython",
    "version": 3
   },
   "file_extension": ".py",
   "mimetype": "text/x-python",
   "name": "python",
   "nbconvert_exporter": "python",
   "pygments_lexer": "ipython3",
   "version": "3.8.5"
  }
 },
 "nbformat": 4,
 "nbformat_minor": 4
}
