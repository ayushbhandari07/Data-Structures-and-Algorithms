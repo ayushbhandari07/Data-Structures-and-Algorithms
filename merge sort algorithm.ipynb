{
 "cells": [
  {
   "cell_type": "code",
   "execution_count": 4,
   "metadata": {},
   "outputs": [],
   "source": [
    "def merge_sort(l):\n",
    "    if len(l)>1:\n",
    "        mid=len(l)//2\n",
    "        left_list=l[:mid]\n",
    "        right_list=l[mid:]\n",
    "        merge_sort(left_list)\n",
    "        merge_sort(right_list)\n",
    "        i=0\n",
    "        j=0\n",
    "        k=0\n",
    "        while i<len(left_list) and j<len(right_list):\n",
    "            if left_list[i]<right_list[j]:\n",
    "                l[k]=left_list[i]\n",
    "                i+=1\n",
    "                k+=1\n",
    "            else:\n",
    "                l[k]=right_list[j]\n",
    "                j+=1\n",
    "                k+=1\n",
    "        while i<len(left_list):\n",
    "            l[k]=left_list[i]\n",
    "            i+=1\n",
    "            k+=1\n",
    "        while j<len(right_list):\n",
    "            l[k]=right_list[j]\n",
    "            j+=1\n",
    "            k+=1\n",
    "    return l\n",
    "            "
   ]
  },
  {
   "cell_type": "code",
   "execution_count": 8,
   "metadata": {},
   "outputs": [
    {
     "data": {
      "text/plain": [
       "[0, 0, 1, 1, 1, 1, 2, 3, 4, 6, 8]"
      ]
     },
     "execution_count": 8,
     "metadata": {},
     "output_type": "execute_result"
    }
   ],
   "source": [
    "merge_sort([2,1,3,6,0,0,4,8,1,1,1])"
   ]
  },
  {
   "cell_type": "code",
   "execution_count": null,
   "metadata": {},
   "outputs": [],
   "source": []
  }
 ],
 "metadata": {
  "kernelspec": {
   "display_name": "Python 3",
   "language": "python",
   "name": "python3"
  },
  "language_info": {
   "codemirror_mode": {
    "name": "ipython",
    "version": 3
   },
   "file_extension": ".py",
   "mimetype": "text/x-python",
   "name": "python",
   "nbconvert_exporter": "python",
   "pygments_lexer": "ipython3",
   "version": "3.8.5"
  }
 },
 "nbformat": 4,
 "nbformat_minor": 4
}
