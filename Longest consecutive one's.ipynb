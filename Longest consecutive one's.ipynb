{
 "cells": [
  {
   "cell_type": "code",
   "execution_count": 1,
   "metadata": {},
   "outputs": [],
   "source": [
    "# Given an array consisting of 1's and 0's \n",
    "# find the length of longest consecutive 1's"
   ]
  },
  {
   "cell_type": "code",
   "execution_count": 2,
   "metadata": {},
   "outputs": [
    {
     "name": "stdout",
     "output_type": "stream",
     "text": [
      "4\n"
     ]
    }
   ],
   "source": [
    "A=[1,1,1,1,0,0,1,1,1,0,1]\n",
    "#optimised solution\n",
    "n=len(A)\n",
    "cnt=0\n",
    "ans=0\n",
    "for i in range(n):\n",
    "    if A[i]==1:\n",
    "        cnt+=1\n",
    "        ans=max(ans,cnt)\n",
    "    if A[i]==0:\n",
    "        cnt=0\n",
    "print(ans)"
   ]
  },
  {
   "cell_type": "code",
   "execution_count": 5,
   "metadata": {},
   "outputs": [
    {
     "name": "stdout",
     "output_type": "stream",
     "text": [
      "4\n"
     ]
    }
   ],
   "source": [
    "A=[1,1,1,1,0,0,1,1,1,0,1]\n",
    "#brute force solution\n",
    "n=len(A)\n",
    "ans=0\n",
    "for i in range(n):\n",
    "    cnt=0\n",
    "    if A[i]==1:\n",
    "        for j in range(i,n):\n",
    "            if A[j]==1:\n",
    "                cnt+=1\n",
    "            else:\n",
    "                break\n",
    "        ans=max(ans,cnt)\n",
    "print(ans)\n"
   ]
  },
  {
   "cell_type": "code",
   "execution_count": null,
   "metadata": {},
   "outputs": [],
   "source": []
  }
 ],
 "metadata": {
  "kernelspec": {
   "display_name": "Python 3",
   "language": "python",
   "name": "python3"
  },
  "language_info": {
   "codemirror_mode": {
    "name": "ipython",
    "version": 3
   },
   "file_extension": ".py",
   "mimetype": "text/x-python",
   "name": "python",
   "nbconvert_exporter": "python",
   "pygments_lexer": "ipython3",
   "version": "3.8.5"
  }
 },
 "nbformat": 4,
 "nbformat_minor": 4
}
