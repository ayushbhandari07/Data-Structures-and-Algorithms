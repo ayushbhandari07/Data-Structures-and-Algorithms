{
 "cells": [
  {
   "cell_type": "code",
   "execution_count": 8,
   "metadata": {},
   "outputs": [],
   "source": [
    "list=[2,1,3,4,0,10,8,90,4]\n",
    "def pivot_search(list,first,last):\n",
    "    n=len(list)-1\n",
    "    pivot=list[first]\n",
    "    left=first+1\n",
    "    right=last\n",
    "    while True:\n",
    "        while left<=right and list[left]<=pivot:\n",
    "            left+=1\n",
    "        while left<=right and list[right]>=pivot:\n",
    "            right-=1\n",
    "        if right<left:\n",
    "            break\n",
    "        else:\n",
    "            list[left],list[right]=list[right],list[left]\n",
    "    list[first],list[right]=list[right],list[first]\n",
    "    return right\n",
    "\n",
    "def quick_sort(list,first,last):\n",
    "    if first<last:\n",
    "        p=pivot_search(list,first,last)\n",
    "        quick_sort(list,first,p-1)\n",
    "        quick_sort(list,p+1,last)\n",
    "    "
   ]
  },
  {
   "cell_type": "code",
   "execution_count": 9,
   "metadata": {},
   "outputs": [
    {
     "name": "stdout",
     "output_type": "stream",
     "text": [
      "[0, 1, 2, 3, 4, 4, 8, 10, 90]\n"
     ]
    }
   ],
   "source": [
    "l=[2,1,3,4,0,10,8,90,4]\n",
    "quick_sort(l,0,8)\n",
    "print(l)"
   ]
  },
  {
   "cell_type": "code",
   "execution_count": null,
   "metadata": {},
   "outputs": [],
   "source": []
  }
 ],
 "metadata": {
  "kernelspec": {
   "display_name": "Python 3",
   "language": "python",
   "name": "python3"
  },
  "language_info": {
   "codemirror_mode": {
    "name": "ipython",
    "version": 3
   },
   "file_extension": ".py",
   "mimetype": "text/x-python",
   "name": "python",
   "nbconvert_exporter": "python",
   "pygments_lexer": "ipython3",
   "version": "3.8.5"
  }
 },
 "nbformat": 4,
 "nbformat_minor": 4
}
