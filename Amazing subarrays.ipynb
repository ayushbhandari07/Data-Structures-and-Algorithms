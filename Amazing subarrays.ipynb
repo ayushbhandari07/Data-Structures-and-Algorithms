{
 "cells": [
  {
   "cell_type": "code",
   "execution_count": 1,
   "metadata": {},
   "outputs": [],
   "source": [
    "# Amazing subarrays are those array that start with vowel"
   ]
  },
  {
   "cell_type": "code",
   "execution_count": 3,
   "metadata": {},
   "outputs": [
    {
     "name": "stdout",
     "output_type": "stream",
     "text": [
      "6\n"
     ]
    }
   ],
   "source": [
    "A=['A','B','E','C']\n",
    "#brute force solution\n",
    "count=0\n",
    "vowels={'A':1,'E':1,'I':1,'O':1,'U':1,'a':1,'e':1,'i':1,'o':1,'u':1}\n",
    "for i in range(len(A)):\n",
    "    cnt=0\n",
    "    if A[i] in vowels:\n",
    "        for j in range(i,len(A)):\n",
    "            cnt+=1\n",
    "    count+=cnt\n",
    "print(count)"
   ]
  },
  {
   "cell_type": "code",
   "execution_count": 17,
   "metadata": {},
   "outputs": [
    {
     "name": "stdout",
     "output_type": "stream",
     "text": [
      "5\n",
      "5\n",
      "3\n",
      "1\n",
      "9\n"
     ]
    }
   ],
   "source": [
    "A=['A','B','E','C','U']\n",
    "#optimised solution\n",
    "count=0\n",
    "n=len(A)\n",
    "print(n)\n",
    "vowels={'A':1,'E':1,'I':1,'O':1,'U':1,'a':1,'e':1,'i':1,'o':1,'u':1}\n",
    "for i in range(n):\n",
    "    cnt=0\n",
    "    if A[i] in vowels:\n",
    "        cnt=n-i\n",
    "        \n",
    "        print(cnt)\n",
    "        \n",
    "            \n",
    "    count+=cnt\n",
    "print(count)"
   ]
  },
  {
   "cell_type": "code",
   "execution_count": null,
   "metadata": {},
   "outputs": [],
   "source": []
  },
  {
   "cell_type": "code",
   "execution_count": null,
   "metadata": {},
   "outputs": [],
   "source": []
  }
 ],
 "metadata": {
  "kernelspec": {
   "display_name": "Python 3",
   "language": "python",
   "name": "python3"
  },
  "language_info": {
   "codemirror_mode": {
    "name": "ipython",
    "version": 3
   },
   "file_extension": ".py",
   "mimetype": "text/x-python",
   "name": "python",
   "nbconvert_exporter": "python",
   "pygments_lexer": "ipython3",
   "version": "3.8.5"
  }
 },
 "nbformat": 4,
 "nbformat_minor": 4
}
