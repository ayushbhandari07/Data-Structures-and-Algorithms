{
 "cells": [
  {
   "cell_type": "code",
   "execution_count": 1,
   "metadata": {},
   "outputs": [],
   "source": [
    "# add two binary numbers\n",
    "A=[1,0,1,1]\n",
    "B=[1,0,0]"
   ]
  },
  {
   "cell_type": "code",
   "execution_count": 2,
   "metadata": {},
   "outputs": [],
   "source": [
    "# algorithm\n",
    "# 1.converting both the binary number into lists to perform operations\n",
    "# 2.The length of both the arrays must be same inorder to perform the addition\n",
    "# 3.method of addition of two binary numbers"
   ]
  },
  {
   "cell_type": "code",
   "execution_count": 5,
   "metadata": {},
   "outputs": [
    {
     "name": "stdout",
     "output_type": "stream",
     "text": [
      "[1, 0, 0, 1, 1]\n"
     ]
    }
   ],
   "source": [
    "A=[1,1,1,1]\n",
    "B=[1,0,0]\n",
    "# both the numbers are provided in lists\n",
    "# len(B) is less than len(A) so add 0's at the start\n",
    "if len(A)<len(B):\n",
    "    while len(A)!=len(B):\n",
    "        A.insert(0,0)\n",
    "if len(B)<len(A):\n",
    "    while len(B)!=len(A):\n",
    "        B.insert(0,0)\n",
    "# now the length of array are same we can proceed with the addition of elements\n",
    "l=[]\n",
    "n=len(A)\n",
    "carry=0\n",
    "for i in range(n-1,-1,-1):\n",
    "    summation=(A[i]+B[i]+carry)%2\n",
    "    carry=(A[i]+B[i]+carry)//2\n",
    "    l.append(summation)\n",
    "if carry!=0:\n",
    "    l.append(carry)\n",
    "print(l[::-1])        "
   ]
  },
  {
   "cell_type": "code",
   "execution_count": null,
   "metadata": {},
   "outputs": [],
   "source": []
  }
 ],
 "metadata": {
  "kernelspec": {
   "display_name": "Python 3",
   "language": "python",
   "name": "python3"
  },
  "language_info": {
   "codemirror_mode": {
    "name": "ipython",
    "version": 3
   },
   "file_extension": ".py",
   "mimetype": "text/x-python",
   "name": "python",
   "nbconvert_exporter": "python",
   "pygments_lexer": "ipython3",
   "version": "3.8.5"
  }
 },
 "nbformat": 4,
 "nbformat_minor": 4
}
