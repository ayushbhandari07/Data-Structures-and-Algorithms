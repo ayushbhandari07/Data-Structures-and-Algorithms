{
 "cells": [
  {
   "cell_type": "code",
   "execution_count": 5,
   "metadata": {},
   "outputs": [
    {
     "name": "stdout",
     "output_type": "stream",
     "text": [
      "{1: 2, 2: 1, 5: 1}\n"
     ]
    }
   ],
   "source": [
    "# find the frequency of each element in queries\n",
    "arr=[1,2,3,1,4,5]\n",
    "queries=[1,5,10,2,9,90,1]\n",
    "hashmap=dict()\n",
    "for i in queries:\n",
    "    if i in hashmap:\n",
    "        hashmap[i]+=1\n",
    "    else:\n",
    "        hashmap[i]=1\n",
    "ans_hashmap=dict()\n",
    "for j in arr:\n",
    "    if j in hashmap:\n",
    "        ans_hashmap[j]=hashmap[j]\n",
    "    else:\n",
    "        pass\n",
    "print(ans_hashmap)\n",
    "    \n"
   ]
  },
  {
   "cell_type": "code",
   "execution_count": null,
   "metadata": {},
   "outputs": [],
   "source": []
  }
 ],
 "metadata": {
  "kernelspec": {
   "display_name": "Python 3",
   "language": "python",
   "name": "python3"
  },
  "language_info": {
   "codemirror_mode": {
    "name": "ipython",
    "version": 3
   },
   "file_extension": ".py",
   "mimetype": "text/x-python",
   "name": "python",
   "nbconvert_exporter": "python",
   "pygments_lexer": "ipython3",
   "version": "3.8.5"
  }
 },
 "nbformat": 4,
 "nbformat_minor": 4
}
